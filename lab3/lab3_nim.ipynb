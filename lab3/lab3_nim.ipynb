{
 "cells": [
  {
   "cell_type": "markdown",
   "metadata": {},
   "source": [
    "Copyright **`(c)`** 2022 Giovanni Squillero `<squillero@polito.it>`  \n",
    "[`https://github.com/squillero/computational-intelligence`](https://github.com/squillero/computational-intelligence)  \n",
    "Free for personal or classroom use; see [`LICENSE.md`](https://github.com/squillero/computational-intelligence/blob/master/LICENSE.md) for details.  \n"
   ]
  },
  {
   "cell_type": "markdown",
   "source": [
    "# Lab 3: Policy Search\n",
    "## Task\n",
    "\n",
    "Write agents able to play [*Nim*](https://en.wikipedia.org/wiki/Nim), with an arbitrary number of rows and an upper bound $k$ on the number of objects that can be removed in a turn (a.k.a., *subtraction game*).\n",
    "\n",
    "The player **taking the last object wins**.\n",
    "\n",
    "* Task3.1: An agent using fixed rules based on *nim-sum* (i.e., an *expert system*)\n",
    "* Task3.2: An agent using evolved rules\n",
    "* Task3.3: An agent using minmax\n",
    "* Task3.4: An agent using reinforcement learning\n",
    "\n",
    "## Instructions\n",
    "\n",
    "* Create the directory `lab3` inside the course repo\n",
    "* Put a `README.md` and your solution (all the files, code and auxiliary data if needed)\n",
    "\n",
    "## Notes\n",
    "\n",
    "* Working in group is not only allowed, but recommended (see: [Ubuntu](https://en.wikipedia.org/wiki/Ubuntu_philosophy) and [Cooperative Learning](https://files.eric.ed.gov/fulltext/EJ1096789.pdf)). Collaborations must be explicitly declared in the `README.md`.\n",
    "* [Yanking](https://www.emacswiki.org/emacs/KillingAndYanking) from the internet is allowed, but sources must be explicitly declared in the `README.md`.\n",
    "\n",
    "## Deadlines ([AoE](https://en.wikipedia.org/wiki/Anywhere_on_Earth))\n",
    "\n",
    "* Sunday, December 4th for Task3.1 and Task3.2\n",
    "* Sunday, December 11th for Task3.3 and Task3.4\n",
    "* Sunday, December 18th for all reviews"
   ],
   "metadata": {
    "collapsed": false
   }
  },
  {
   "cell_type": "code",
   "execution_count": 4,
   "metadata": {},
   "outputs": [],
   "source": [
    "import logging\n",
    "from collections import namedtuple\n",
    "import random\n",
    "from typing import Callable\n",
    "from copy import deepcopy\n",
    "from itertools import accumulate\n",
    "from operator import xor\n",
    "import random\n",
    "import math\n",
    "import numpy as np\n",
    "import sys"
   ]
  },
  {
   "cell_type": "markdown",
   "metadata": {},
   "source": [
    "## The *Nim* and *Nimply* classes"
   ]
  },
  {
   "cell_type": "code",
   "execution_count": 5,
   "metadata": {},
   "outputs": [],
   "source": [
    "Nimply = namedtuple(\"Nimply\", \"row, num_objects\")"
   ]
  },
  {
   "cell_type": "code",
   "execution_count": 6,
   "metadata": {},
   "outputs": [],
   "source": [
    "class Nim:\n",
    "    def __init__(self, num_rows: int, k: int = None) -> None:\n",
    "        self._rows = [i * 2 + 1 for i in range(num_rows)]\n",
    "        self._k = k\n",
    "\n",
    "    def __bool__(self):\n",
    "        return sum(self._rows) > 0\n",
    "\n",
    "    def __str__(self):\n",
    "        return \"<\" + \" \".join(str(_) for _ in self._rows) + \">\"\n",
    "\n",
    "    @property\n",
    "    def rows(self) -> tuple:\n",
    "        return tuple(self._rows)\n",
    "\n",
    "    @property\n",
    "    def k(self) -> int:\n",
    "        return self._k\n",
    "\n",
    "    def nimming(self, ply: Nimply) -> None:\n",
    "        row, num_objects = ply\n",
    "        assert self._rows[row] >= num_objects\n",
    "        assert self._k is None or num_objects <= self._k\n",
    "        self._rows[row] -= num_objects"
   ]
  },
  {
   "cell_type": "markdown",
   "metadata": {},
   "source": [
    "## Task 3.1: hardcoded strategies"
   ]
  },
  {
   "cell_type": "code",
   "execution_count": 7,
   "metadata": {},
   "outputs": [],
   "source": [
    "def pure_random(state: Nim) -> Nimply:\n",
    "    row = random.choice([r for r, c in enumerate(state.rows) if c > 0])\n",
    "    num_objects = random.randint(1, state.rows[row])\n",
    "    return Nimply(row, num_objects)"
   ]
  },
  {
   "cell_type": "code",
   "execution_count": 8,
   "metadata": {},
   "outputs": [],
   "source": [
    "def gabriele(state: Nim) -> Nimply:\n",
    "    \"\"\"Pick always the maximum possible number of the lowest row\"\"\"\n",
    "    possible_moves = [(r, o) for r, c in enumerate(state.rows) for o in range(1, c + 1)]\n",
    "    return Nimply(*max(possible_moves, key=lambda m: (-m[0], m[1])))"
   ]
  },
  {
   "cell_type": "code",
   "execution_count": 9,
   "metadata": {},
   "outputs": [],
   "source": [
    "def nim_sum(state: Nim) -> int:\n",
    "    *_, result = accumulate(state.rows, xor)\n",
    "    return result\n",
    "\n",
    "\n",
    "def cook_status(state: Nim) -> dict:\n",
    "    cooked = dict()\n",
    "    cooked[\"possible_moves\"] = [\n",
    "        (r, o) for r, c in enumerate(state.rows) for o in range(1, c + 1) if state.k is None or o <= state.k\n",
    "    ]\n",
    "    cooked[\"active_rows_number\"] = sum(o > 0 for o in state.rows)\n",
    "    #cooked[\"shortest_row\"] = min((x for x in enumerate(state.rows) if x[1] > 0), key=lambda y: y[1])[0]\n",
    "    #cooked[\"longest_row\"] = max((x for x in enumerate(state.rows)), key=lambda y: y[1])[0]\n",
    "    cooked[\"nim_sum\"] = nim_sum(state)\n",
    "\n",
    "    brute_force = list()\n",
    "    for m in cooked[\"possible_moves\"]:\n",
    "        tmp = deepcopy(state)\n",
    "        tmp.nimming(m)\n",
    "        brute_force.append((m, nim_sum(tmp)))\n",
    "    cooked[\"brute_force\"] = brute_force\n",
    "\n",
    "    return cooked"
   ]
  },
  {
   "cell_type": "code",
   "execution_count": 10,
   "metadata": {},
   "outputs": [],
   "source": [
    "def optimal_startegy(state: Nim) -> Nimply:\n",
    "    data = cook_status(state)\n",
    "    k =  next((bf for bf in data[\"brute_force\"] if bf[1] == 0), random.choice(data[\"brute_force\"]))[0]\n",
    "    return k"
   ]
  },
  {
   "cell_type": "code",
   "execution_count": 65,
   "metadata": {},
   "outputs": [],
   "source": [
    "def make_strategy(genome: dict) -> Callable:\n",
    "    def evolvable(state: Nim) -> Nimply:\n",
    "        data = cook_status(state)\n",
    "\n",
    "        if random.random() < genome[\"p\"]:\n",
    "            ply = Nimply(data[\"shortest_row\"], random.randint(1, state.rows[data[\"shortest_row\"]]))\n",
    "        else:\n",
    "            ply = Nimply(data[\"longest_row\"], random.randint(1, state.rows[data[\"longest_row\"]]))\n",
    "\n",
    "        return ply\n",
    "\n",
    "    return evolvable"
   ]
  },
  {
   "cell_type": "code",
   "execution_count": 38,
   "outputs": [],
   "source": [
    "def big_row_strategy(state: Nim) -> Nimply:\n",
    "    n_big_rows = sum(o > 1 for o in state.rows)\n",
    "\n",
    "    if n_big_rows == 1:\n",
    "        data = cook_status(state)\n",
    "        for row, num_object in data['possible_moves']:\n",
    "            tmp_state = deepcopy(state)\n",
    "            tmp_Nimply = Nimply(row, num_object)\n",
    "            tmp_state.nimming(tmp_Nimply)\n",
    "            total_rows = sum([row for row in tmp_state.rows])\n",
    "            if total_rows % 2 == 0:\n",
    "                return tmp_Nimply\n",
    "    else:\n",
    "        return optimal_startegy(state)\n",
    "\n"
   ],
   "metadata": {
    "collapsed": false
   }
  },
  {
   "cell_type": "markdown",
   "source": [
    "## Strategy evaluator"
   ],
   "metadata": {
    "collapsed": false
   }
  },
  {
   "cell_type": "code",
   "execution_count": 30,
   "metadata": {},
   "outputs": [],
   "source": [
    "def evaluate(strategy_player_0: Callable, strategy_player_1: Callable, N_MATCHES, NIM_SIZE) -> float:\n",
    "    opponent = (strategy_player_0, strategy_player_1)\n",
    "    won = 0\n",
    "    for m in range(N_MATCHES):\n",
    "        nim = Nim(NIM_SIZE)\n",
    "        player = 0\n",
    "        while sum(nim.rows) > 0:\n",
    "            ply = opponent[player](nim)\n",
    "            nim.nimming(ply)\n",
    "            player = 1 - player\n",
    "        winner = 1 - player\n",
    "        if winner == 0:\n",
    "            won += 1\n",
    "    return won / N_MATCHES"
   ]
  },
  {
   "cell_type": "code",
   "execution_count": 42,
   "metadata": {},
   "outputs": [
    {
     "data": {
      "text/plain": "0.48"
     },
     "execution_count": 42,
     "metadata": {},
     "output_type": "execute_result"
    }
   ],
   "source": [
    "N_MATCHES = 100\n",
    "NIM_SIZE = 11\n",
    "start = 1\n",
    "evaluate(big_row_strategy,optimal_startegy, N_MATCHES, NIM_SIZE)"
   ]
  },
  {
   "cell_type": "markdown",
   "metadata": {},
   "source": [
    "## Simple match between two players using different hardcoded strategies"
   ]
  },
  {
   "cell_type": "code",
   "execution_count": 44,
   "metadata": {},
   "outputs": [
    {
     "name": "stderr",
     "output_type": "stream",
     "text": [
      "DEBUG:root:status: Initial board  -> <1 3 5 7 9 11 13 15 17 19 21>\n",
      "DEBUG:root:status: After player 0 -> <1 3 5 7 9 11 13 15 6 19 21>\n",
      "DEBUG:root:status: After player 1 -> <1 3 5 7 0 11 13 15 6 19 21>\n",
      "DEBUG:root:status: After player 0 -> <1 3 5 7 0 2 13 15 6 19 21>\n",
      "DEBUG:root:status: After player 1 -> <1 3 5 7 0 2 13 15 0 19 21>\n",
      "DEBUG:root:status: After player 0 -> <1 3 3 7 0 2 13 15 0 19 21>\n",
      "DEBUG:root:status: After player 1 -> <1 3 3 7 0 2 13 15 0 15 21>\n",
      "DEBUG:root:status: After player 0 -> <1 3 3 7 0 2 13 15 0 15 9>\n",
      "DEBUG:root:status: After player 1 -> <1 3 3 7 0 2 13 6 0 15 9>\n",
      "DEBUG:root:status: After player 0 -> <1 3 3 7 0 2 4 6 0 15 9>\n",
      "DEBUG:root:status: After player 1 -> <1 3 3 7 0 2 4 6 0 15 2>\n",
      "DEBUG:root:status: After player 0 -> <1 3 3 7 0 2 4 6 0 4 2>\n",
      "DEBUG:root:status: After player 1 -> <1 3 3 6 0 2 4 6 0 4 2>\n",
      "DEBUG:root:status: After player 0 -> <0 3 3 6 0 2 4 6 0 4 2>\n",
      "DEBUG:root:status: After player 1 -> <0 2 3 6 0 2 4 6 0 4 2>\n",
      "DEBUG:root:status: After player 0 -> <0 2 2 6 0 2 4 6 0 4 2>\n",
      "DEBUG:root:status: After player 1 -> <0 1 2 6 0 2 4 6 0 4 2>\n",
      "DEBUG:root:status: After player 0 -> <0 1 1 6 0 2 4 6 0 4 2>\n",
      "DEBUG:root:status: After player 1 -> <0 1 1 6 0 1 4 6 0 4 2>\n",
      "DEBUG:root:status: After player 0 -> <0 1 1 5 0 1 4 6 0 4 2>\n",
      "DEBUG:root:status: After player 1 -> <0 1 1 5 0 1 2 6 0 4 2>\n",
      "DEBUG:root:status: After player 0 -> <0 1 1 3 0 1 2 6 0 4 2>\n",
      "DEBUG:root:status: After player 1 -> <0 1 1 3 0 1 2 2 0 4 2>\n",
      "DEBUG:root:status: After player 0 -> <0 1 1 3 0 1 2 2 0 0 2>\n",
      "DEBUG:root:status: After player 1 -> <0 1 1 0 0 1 2 2 0 0 2>\n",
      "DEBUG:root:status: After player 0 -> <0 1 1 0 0 1 1 2 0 0 2>\n",
      "DEBUG:root:status: After player 1 -> <0 1 1 0 0 1 1 0 0 0 2>\n",
      "DEBUG:root:status: After player 0 -> <0 1 1 0 0 1 1 0 0 0 0>\n",
      "DEBUG:root:status: After player 1 -> <0 1 0 0 0 1 1 0 0 0 0>\n",
      "DEBUG:root:status: After player 0 -> <0 0 0 0 0 1 1 0 0 0 0>\n",
      "DEBUG:root:status: After player 1 -> <0 0 0 0 0 0 1 0 0 0 0>\n",
      "DEBUG:root:status: After player 0 -> <0 0 0 0 0 0 0 0 0 0 0>\n",
      "INFO:root:status: Player 0 won!\n"
     ]
    }
   ],
   "source": [
    "logging.getLogger().setLevel(logging.DEBUG)\n",
    "\n",
    "players_strategies = (big_row_strategy, optimal_startegy)\n",
    "\n",
    "nim = Nim(11)\n",
    "logging.debug(f\"status: Initial board  -> {nim}\")\n",
    "player = 0\n",
    "while nim:\n",
    "    ply = players_strategies[player](nim)\n",
    "    nim.nimming(ply)\n",
    "    logging.debug(f\"status: After player {player} -> {nim}\")\n",
    "    player = 1 - player\n",
    "winner = 1 - player\n",
    "logging.info(f\"status: Player {winner} won!\")"
   ]
  },
  {
   "cell_type": "markdown",
   "source": [
    "## Task 3.2"
   ],
   "metadata": {
    "collapsed": false
   }
  },
  {
   "cell_type": "code",
   "execution_count": 45,
   "outputs": [],
   "source": [
    "def make_strategy_g(genome: np.array) -> Callable:\n",
    "    def evolvable(state: Nim) -> Nimply:\n",
    "        rows = np.array(state.rows)\n",
    "        new_genome = genome.copy()\n",
    "        rows_without_0 = rows[np.where(rows > 0)[0]]\n",
    "        new_genome[np.where(rows == 0)[0]] = 2**63-1\n",
    "        new_genome[np.where(new_genome == 0)[0]] = 2**63-1 ##kkk\n",
    "        min_genome = min(new_genome)\n",
    "        min_state = min(rows_without_0)\n",
    "        id_state = random.choice(np.where(np.array(state.rows) == min_state)[0])\n",
    "        if min_genome > min_state and min_state:\n",
    "            ply = Nimply(id_state, int(min_state))\n",
    "            return ply\n",
    "\n",
    "        ids = np.where(genome == min_genome)[0]\n",
    "        for id in ids:\n",
    "            if min_genome <= state.rows[id]:\n",
    "                pos_genome = id\n",
    "                break\n",
    "        ply = Nimply(pos_genome, int(min_genome))\n",
    "        return ply\n",
    "\n",
    "    return evolvable"
   ],
   "metadata": {
    "collapsed": false
   }
  },
  {
   "cell_type": "markdown",
   "source": [
    "Definition of class individual"
   ],
   "metadata": {
    "collapsed": false
   }
  },
  {
   "cell_type": "code",
   "execution_count": 46,
   "outputs": [],
   "source": [
    "class Individual:\n",
    "    def __init__(self, genome: list):\n",
    "        self.genome = np.array(genome)\n",
    "        self.fitness = evaluate(make_strategy_g(self.genome), optimal_startegy, 100, NIM_SIZE)"
   ],
   "metadata": {
    "collapsed": false
   }
  },
  {
   "cell_type": "markdown",
   "source": [
    "Hyper parameters"
   ],
   "metadata": {
    "collapsed": false
   }
  },
  {
   "cell_type": "code",
   "execution_count": 47,
   "outputs": [],
   "source": [
    "POPULATION_SIZE = 10\n",
    "GENOME_SIZE = NIM_SIZE = 11\n",
    "NUM_GENERATIONS = 10\n",
    "OFFSPRING_SIZE = 15\n",
    "MUTATION_RATE = 0.35\n"
   ],
   "metadata": {
    "collapsed": false
   }
  },
  {
   "cell_type": "code",
   "execution_count": 48,
   "outputs": [],
   "source": [
    "nim = Nim(NIM_SIZE)"
   ],
   "metadata": {
    "collapsed": false
   }
  },
  {
   "cell_type": "markdown",
   "source": [
    "Generate population"
   ],
   "metadata": {
    "collapsed": false
   }
  },
  {
   "cell_type": "code",
   "execution_count": 49,
   "outputs": [],
   "source": [
    "population = [Individual(genome=[random.choice([i for i in range(1, nim.rows[ln]+1)]) for ln in range(NIM_SIZE)]) for i in range(POPULATION_SIZE)]"
   ],
   "metadata": {
    "collapsed": false
   }
  },
  {
   "cell_type": "markdown",
   "source": [
    "Define GA operators"
   ],
   "metadata": {
    "collapsed": false
   }
  },
  {
   "cell_type": "code",
   "execution_count": 50,
   "outputs": [],
   "source": [
    "def tournament(population, tournament_size=2):\n",
    "    return max(random.choices(population, k=tournament_size), key=lambda i: i.fitness)\n",
    "\n",
    "\n",
    "def crossover(g1, g2):\n",
    "    cut = random.randint(0, len(g1))\n",
    "    return list(np.concatenate((g1[:cut],g2[cut:])))\n",
    "    #return g1[:cut] + g2[cut:]\n",
    "\n",
    "\n",
    "def mutation(g):\n",
    "    point = random.randint(0, len(g) - 1)\n",
    "    nim_row = nim.rows[point]\n",
    "    k = [i for i in range(g[point], nim_row+1)]\n",
    "    return list(np.concatenate((g[:point],np.array((random.choice(k) - g[point],)), g[point + 1 :])))\n",
    "    #return g[:point] + list((1 - g[point],)) + g[point + 1 :]"
   ],
   "metadata": {
    "collapsed": false
   }
  },
  {
   "cell_type": "markdown",
   "source": [
    "GA algorithm"
   ],
   "metadata": {
    "collapsed": false
   }
  },
  {
   "cell_type": "code",
   "execution_count": null,
   "outputs": [],
   "source": [
    "for generation in range(NUM_GENERATIONS):\n",
    "    offspring = list()\n",
    "    genomes = list(map(lambda x: list(x.genome), population))\n",
    "    for i in range(OFFSPRING_SIZE):\n",
    "        p1 = tournament(population)\n",
    "        p2 = tournament(population)\n",
    "        genome = crossover(p1.genome, p2.genome)\n",
    "        if random.random() < MUTATION_RATE:\n",
    "             genome = mutation(genome)\n",
    "        if genome not in genomes:\n",
    "          individual = Individual(genome=genome)\n",
    "          offspring.append(individual)\n",
    "    population += offspring\n",
    "    population = sorted(population, key=lambda i: i.fitness)[:POPULATION_SIZE]\n",
    "    print(population[0].fitness)"
   ],
   "metadata": {
    "collapsed": false,
    "pycharm": {
     "is_executing": true
    }
   }
  },
  {
   "cell_type": "code",
   "execution_count": null,
   "outputs": [],
   "source": [
    "logging.getLogger().setLevel(logging.DEBUG)\n",
    "\n",
    "players_strategies = (make_strategy_g(population[0].genome), optimal_startegy)\n",
    "\n",
    "nim = Nim(NIM_SIZE)\n",
    "logging.debug(f\"status: Initial board  -> {nim}\")\n",
    "player = 0\n",
    "while nim:\n",
    "    ply = players_strategies[player](nim)\n",
    "    nim.nimming(ply)\n",
    "    logging.debug(f\"status: After player {player} -> {nim}\")\n",
    "    player = 1 - player\n",
    "winner = 1 - player\n",
    "logging.info(f\"status: Player {winner} won!\")"
   ],
   "metadata": {
    "collapsed": false,
    "pycharm": {
     "is_executing": true
    }
   }
  },
  {
   "cell_type": "markdown",
   "source": [
    "## Task 3.3"
   ],
   "metadata": {
    "collapsed": false
   }
  },
  {
   "cell_type": "code",
   "execution_count": 10,
   "outputs": [],
   "source": [
    "def evaluate_state(state: Nim, player: int):\n",
    "    if not state:\n",
    "        if player == 1:\n",
    "            return  float('-inf')\n",
    "        else:\n",
    "            return float('+inf')"
   ],
   "metadata": {
    "collapsed": false
   }
  },
  {
   "cell_type": "code",
   "execution_count": 11,
   "outputs": [],
   "source": [
    "\n",
    "\n",
    "def recursive_min_max(state: Nim, player):\n",
    "    cache = {}\n",
    "    def min_max(state, player, alpha = float('-inf'), beta = float('+inf')):\n",
    "        if not state:\n",
    "            return evaluate_state(state, player), None\n",
    "        if (state, player) in cache:\n",
    "            return cache[(state, player)]\n",
    "        data = cook_status(state)\n",
    "        choices = []\n",
    "        for row, object in data['possible_moves']:\n",
    "            tmp_state = deepcopy(state)\n",
    "            tmp_Nimply = Nimply(row, object)\n",
    "            tmp_state.nimming(tmp_Nimply)\n",
    "            value = min_max(tmp_state, 1 - player, alpha, beta)[0]\n",
    "            action = (row, object)\n",
    "            choices.append((value, action))\n",
    "            if player == 1:\n",
    "                alpha = max(alpha, value)\n",
    "            else:\n",
    "                beta = min(beta, value)\n",
    "            if beta <= alpha:\n",
    "                break\n",
    "\n",
    "        if player == 1:\n",
    "            val = max(choices)\n",
    "        else:\n",
    "            val = min(choices)\n",
    "        cache[(state, player)] = val\n",
    "        return val\n",
    "\n",
    "    value, action = min_max(state, player)\n",
    "    return value, action\n"
   ],
   "metadata": {
    "collapsed": false
   }
  },
  {
   "cell_type": "code",
   "execution_count": 12,
   "outputs": [],
   "source": [
    "def minmax_strategy(state: Nim) -> Nimply:\n",
    "    val, action = recursive_min_max(state, 0)\n",
    "    return Nimply(action[0], action[1])"
   ],
   "metadata": {
    "collapsed": false
   }
  },
  {
   "cell_type": "code",
   "execution_count": 13,
   "outputs": [
    {
     "name": "stderr",
     "output_type": "stream",
     "text": [
      "DEBUG:root:status: Initial board  -> <1 3 5>\n",
      "DEBUG:root:status: After player 0 -> <1 3 2>\n",
      "DEBUG:root:status: After player 1 -> <0 3 2>\n",
      "DEBUG:root:status: After player 0 -> <0 2 2>\n",
      "DEBUG:root:status: After player 1 -> <0 0 2>\n",
      "DEBUG:root:status: After player 0 -> <0 0 0>\n",
      "INFO:root:status: Player 0 won!\n"
     ]
    }
   ],
   "source": [
    "logging.getLogger().setLevel(logging.DEBUG)\n",
    "\n",
    "players_strategies = (minmax_strategy, optimal_startegy)\n",
    "\n",
    "nim = Nim(3)\n",
    "logging.debug(f\"status: Initial board  -> {nim}\")\n",
    "player = 0\n",
    "while nim:\n",
    "    ply = players_strategies[player](nim)\n",
    "    nim.nimming(ply)\n",
    "    logging.debug(f\"status: After player {player} -> {nim}\")\n",
    "    player = 1 - player\n",
    "winner = 1 - player\n",
    "logging.info(f\"status: Player {winner} won!\")"
   ],
   "metadata": {
    "collapsed": false
   }
  },
  {
   "cell_type": "markdown",
   "source": [
    "## Task 3.4"
   ],
   "metadata": {
    "collapsed": false
   }
  },
  {
   "cell_type": "code",
   "execution_count": 77,
   "outputs": [],
   "source": [
    "class Nim:\n",
    "    def __init__(self, num_rows: int, k: int = None, rows = None) -> None:\n",
    "        if rows:\n",
    "            self._rows = rows\n",
    "        else:\n",
    "            self._rows = [i * 2 + 1 for i in range(num_rows)]\n",
    "        self._k = k\n",
    "        self._num_rows = num_rows\n",
    "        self.row_states = []\n",
    "\n",
    "    def __bool__(self):\n",
    "        return sum(self._rows) > 0\n",
    "\n",
    "    def __str__(self):\n",
    "        return \"<\" + \" \".join(str(_) for _ in self._rows) + \">\"\n",
    "\n",
    "    @property\n",
    "    def rows(self) -> tuple:\n",
    "        return tuple(self._rows)\n",
    "\n",
    "    @property\n",
    "    def num_rows(self):\n",
    "        return self._num_rows\n",
    "\n",
    "    @property\n",
    "    def k(self) -> int:\n",
    "        return self._k\n",
    "\n",
    "    def nimming(self, ply: Nimply) -> None:\n",
    "        row, num_objects = ply\n",
    "        assert self._rows[row] >= num_objects\n",
    "        assert self._k is None or num_objects <= self._k\n",
    "        self._rows[row] -= num_objects\n",
    "\n",
    "    def is_game_over(self):\n",
    "        return not (sum(self._rows) > 0)\n",
    "\n",
    "    def give_rewards(self):\n",
    "        return -1* (sum(self._rows) > 0)\n",
    "\n",
    "    def get_state_and_reward(self):\n",
    "        return self, self.give_rewards()\n",
    "\n",
    "    def is_allowed_move(self, ply):\n",
    "        row, num_objects = ply\n",
    "        return self._rows[row] >= num_objects and (self._k is None or num_objects <= self._k)\n",
    "\n",
    "    def allowed_moves(self):\n",
    "        return [(row, obj) for row, c in enumerate(self.rows) for obj in range(1, c + 1)]\n",
    "\n",
    "    def generate_row_state(self):\n",
    "        current_state_row = deepcopy(self._rows)\n",
    "        self.row_states.append(tuple(current_state_row))\n",
    "\n",
    "        def recursive_generation(current_state_row, pos):\n",
    "            if current_state_row == 0:\n",
    "                return\n",
    "\n",
    "            for pos in range(pos, self._num_rows):\n",
    "                max = current_state_row[pos]\n",
    "                for rm_elm in range(1,max+1):\n",
    "                    new_state = deepcopy(current_state_row)\n",
    "                    new_state[pos] -= rm_elm\n",
    "                    self.row_states.append(tuple(new_state))\n",
    "                    recursive_generation(new_state, pos + 1)\n",
    "\n",
    "        recursive_generation(current_state_row, 0)\n",
    "        return self.row_states"
   ],
   "metadata": {
    "collapsed": false
   }
  },
  {
   "cell_type": "code",
   "execution_count": 110,
   "outputs": [],
   "source": [
    "\n",
    "\n",
    "class Agent():\n",
    "\n",
    "    def __init__(self, nim, alpha = 0.1, random_factor = 0.2) -> None:\n",
    "        self.state_history = []\n",
    "        self.alpha = alpha\n",
    "        self.random_factor = random_factor\n",
    "        self.G = {}\n",
    "        self.init_reward(nim)\n",
    "\n",
    "    def init_reward(self, state: Nim):\n",
    "        row_states = state.generate_row_state()\n",
    "        print(row_states)\n",
    "        for row_state in row_states:\n",
    "            self.G[row_state] = np.random.uniform(low=1.0, high=0.1)\n",
    "\n",
    "    def choose_action(self, state: Nim) -> Nimply:\n",
    "        maxG = -10e15\n",
    "        next_move = None\n",
    "        possible_moves = state.allowed_moves()\n",
    "        if np.random.random() < self.random_factor:\n",
    "            next_move = random.choice(possible_moves)\n",
    "        else:\n",
    "            for action in possible_moves:\n",
    "                new_state = deepcopy(state)\n",
    "                new_state.nimming(action)\n",
    "                if self.G[new_state.rows] >= maxG:\n",
    "                    next_move = action\n",
    "                    maxG = self.G[new_state.rows]\n",
    "        return next_move\n",
    "\n",
    "    def update_state_history(self, state, reward):\n",
    "        self.state_history.append((state, reward))\n",
    "\n",
    "    def learn(self):\n",
    "        target = 0\n",
    "        for prev, reward in reversed(self.state_history):\n",
    "            self.G[prev.rows] = (1 - self.alpha)*self.G[prev.rows] + self.alpha * (target - self.G[prev.rows])\n",
    "            target += reward\n",
    "        self.state_history = []\n",
    "        self.random_factor -= 10e-5\n",
    "\n",
    "    def get_strategy(self) -> Callable:\n",
    "        def agent_strategy(state: Nim) -> Nimply:\n",
    "            action = self.choose_action(state)\n",
    "            return Nimply(action[0], action[1])\n",
    "        return agent_strategy\n"
   ],
   "metadata": {
    "collapsed": false
   }
  },
  {
   "cell_type": "code",
   "execution_count": 111,
   "outputs": [
    {
     "name": "stdout",
     "output_type": "stream",
     "text": [
      "[(1, 3, 5), (0, 3, 5), (0, 2, 5), (0, 2, 4), (0, 2, 3), (0, 2, 2), (0, 2, 1), (0, 2, 0), (0, 1, 5), (0, 1, 4), (0, 1, 3), (0, 1, 2), (0, 1, 1), (0, 1, 0), (0, 0, 5), (0, 0, 4), (0, 0, 3), (0, 0, 2), (0, 0, 1), (0, 0, 0), (0, 3, 4), (0, 3, 3), (0, 3, 2), (0, 3, 1), (0, 3, 0), (1, 2, 5), (1, 2, 4), (1, 2, 3), (1, 2, 2), (1, 2, 1), (1, 2, 0), (1, 1, 5), (1, 1, 4), (1, 1, 3), (1, 1, 2), (1, 1, 1), (1, 1, 0), (1, 0, 5), (1, 0, 4), (1, 0, 3), (1, 0, 2), (1, 0, 1), (1, 0, 0), (1, 3, 4), (1, 3, 3), (1, 3, 2), (1, 3, 1), (1, 3, 0)]\n",
      "#0: 0.13\n",
      "#50: 0.2\n",
      "#100: 0.12\n",
      "#150: 0.12\n",
      "#200: 0.08\n",
      "#250: 0.11\n",
      "#300: 0.17\n",
      "#350: 0.13\n",
      "#400: 0.15\n",
      "#450: 0.14\n",
      "#500: 0.14\n",
      "#550: 0.13\n",
      "#600: 0.12\n",
      "#650: 0.13\n",
      "#700: 0.06\n",
      "#750: 0.15\n",
      "#800: 0.12\n",
      "#850: 0.16\n",
      "#900: 0.09\n",
      "#950: 0.13\n",
      "#1000: 0.16\n",
      "#1050: 0.2\n",
      "#1100: 0.15\n",
      "#1150: 0.11\n",
      "#1200: 0.14\n",
      "#1250: 0.16\n",
      "#1300: 0.16\n",
      "#1350: 0.12\n",
      "#1400: 0.21\n",
      "#1450: 0.15\n",
      "#1500: 0.16\n",
      "#1550: 0.25\n",
      "#1600: 0.22\n",
      "#1650: 0.18\n",
      "#1700: 0.2\n",
      "#1750: 0.22\n",
      "#1800: 0.23\n",
      "#1850: 0.16\n",
      "#1900: 0.23\n",
      "#1950: 0.24\n",
      "#2000: 0.13\n",
      "#2050: 0.13\n",
      "#2100: 0.16\n",
      "#2150: 0.18\n",
      "#2200: 0.14\n",
      "#2250: 0.08\n",
      "#2300: 0.16\n",
      "#2350: 0.13\n",
      "#2400: 0.14\n",
      "#2450: 0.15\n",
      "#2500: 0.21\n",
      "#2550: 0.13\n",
      "#2600: 0.13\n",
      "#2650: 0.21\n",
      "#2700: 0.19\n",
      "#2750: 0.1\n",
      "#2800: 0.14\n",
      "#2850: 0.15\n",
      "#2900: 0.17\n",
      "#2950: 0.18\n",
      "#3000: 0.24\n",
      "#3050: 0.15\n",
      "#3100: 0.16\n",
      "#3150: 0.19\n",
      "#3200: 0.2\n",
      "#3250: 0.22\n",
      "#3300: 0.17\n",
      "#3350: 0.18\n",
      "#3400: 0.19\n",
      "#3450: 0.19\n",
      "#3500: 0.19\n",
      "#3550: 0.15\n",
      "#3600: 0.15\n",
      "#3650: 0.19\n",
      "#3700: 0.16\n",
      "#3750: 0.11\n",
      "#3800: 0.14\n",
      "#3850: 0.2\n",
      "#3900: 0.21\n",
      "#3950: 0.16\n",
      "#4000: 0.16\n",
      "#4050: 0.13\n",
      "#4100: 0.11\n",
      "#4150: 0.19\n",
      "#4200: 0.21\n",
      "#4250: 0.2\n",
      "#4300: 0.21\n",
      "#4350: 0.17\n",
      "#4400: 0.22\n",
      "#4450: 0.16\n",
      "#4500: 0.17\n",
      "#4550: 0.23\n",
      "#4600: 0.09\n",
      "#4650: 0.17\n",
      "#4700: 0.16\n",
      "#4750: 0.15\n",
      "#4800: 0.21\n",
      "#4850: 0.14\n",
      "#4900: 0.21\n",
      "#4950: 0.12\n"
     ]
    }
   ],
   "source": [
    "evaluation_history = []\n",
    "NUM_EPOCHS = 5000\n",
    "NIM_SIZE = 3\n",
    "N_MATCHES = 100\n",
    "\n",
    "nim = Nim(NIM_SIZE)\n",
    "robot = Agent(nim, alpha=0.9, random_factor=0.2)\n",
    "\n",
    "def rl_strategy(nim: Nim):\n",
    "    state, _ = nim.get_state_and_reward()\n",
    "    action = robot.choose_action(state)\n",
    "    state, reward = nim.get_state_and_reward()\n",
    "    robot.update_state_history(state, reward)\n",
    "    return action\n",
    "\n",
    "for i in range(NUM_EPOCHS):\n",
    "    player = 0\n",
    "    opponent_strategy = (rl_strategy, optimal_startegy)\n",
    "    while not nim.is_game_over():\n",
    "        ply = opponent_strategy[player](nim)\n",
    "        nim.nimming(ply)\n",
    "        player = 1 - player\n",
    "    winner = 1 - player\n",
    "    robot.learn()\n",
    "    if i % 50 == 0:\n",
    "        eval = evaluate(robot.get_strategy(), optimal_startegy, N_MATCHES, NIM_SIZE)\n",
    "        evaluation_history.append(eval)\n",
    "        print(f\"#{i}: {eval}\")\n",
    "    nim = Nim(NIM_SIZE)"
   ],
   "metadata": {
    "collapsed": false
   }
  },
  {
   "cell_type": "code",
   "execution_count": 112,
   "outputs": [
    {
     "data": {
      "text/plain": "<Figure size 640x480 with 1 Axes>",
      "image/png": "[encoded data removed]"
     },
     "metadata": {},
     "output_type": "display_data"
    }
   ],
   "source": [
    "from matplotlib import pyplot as plt\n",
    "plt.plot(evaluation_history)\n",
    "plt.show()"
   ],
   "metadata": {
    "collapsed": false
   }
  },
  {
   "cell_type": "code",
   "execution_count": null,
   "outputs": [],
   "source": [],
   "metadata": {
    "collapsed": false
   }
  }
 ],
 "metadata": {
  "kernelspec": {
   "display_name": "Python 3.10.7 ('ci22-dPIXJ0_o-py3.10')",
   "language": "python",
   "name": "python3"
  },
  "language_info": {
   "codemirror_mode": {
    "name": "ipython",
    "version": 3
   },
   "file_extension": ".py",
   "mimetype": "text/x-python",
   "name": "python",
   "nbconvert_exporter": "python",
   "pygments_lexer": "ipython3",
   "version": "3.10.7"
  },
  "vscode": {
   "interpreter": {
    "hash": "10197e8e2f2aa67e2c349105091c77f4cd384fce4877865f002d9ec653f96bc0"
   }
  }
 },
 "nbformat": 4,
 "nbformat_minor": 2
}
