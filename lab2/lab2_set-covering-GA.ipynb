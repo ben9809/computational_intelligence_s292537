{
 "cells": [
  {
   "cell_type": "code",
   "execution_count": 2,
   "metadata": {
    "collapsed": true,
    "pycharm": {
     "name": "#%%\n"
    }
   },
   "outputs": [],
   "source": [
    "import logging\n",
    "from collections import namedtuple\n",
    "import random\n",
    "import numpy as np\n",
    "import math"
   ]
  },
  {
   "cell_type": "code",
   "execution_count": 18,
   "outputs": [],
   "source": [
    "def problem(N, seed=None):\n",
    "    random.seed(seed)\n",
    "    return [\n",
    "        list(set(random.randint(0, N - 1) for n in range(random.randint(N // 5, N // 2))))\n",
    "        for n in range(random.randint(N, N * 5))\n",
    "    ]"
   ],
   "metadata": {
    "collapsed": false,
    "pycharm": {
     "name": "#%%\n"
    }
   }
  },
  {
   "cell_type": "code",
   "execution_count": 70,
   "outputs": [],
   "source": [
    "PROBLEM_SIZE = 500 # set covering problem size\n",
    "POPULATION_SIZE = 2*PROBLEM_SIZE #number of possible solutions\n",
    "OFFSPRING_SIZE = math.ceil(1.7*PROBLEM_SIZE) #number of new gene added to the population\n",
    "NUM_GENERATIONS = 200 #max number of generations"
   ],
   "metadata": {
    "collapsed": false,
    "pycharm": {
     "name": "#%%\n"
    }
   }
  },
  {
   "cell_type": "code",
   "execution_count": 71,
   "outputs": [],
   "source": [
    "space = problem(PROBLEM_SIZE, seed = 42)\n",
    "GOAL = set(range(PROBLEM_SIZE))\n",
    "Individual = namedtuple(\"Individual\", [\"genome\", \"fitness\"])\n"
   ],
   "metadata": {
    "collapsed": false,
    "pycharm": {
     "name": "#%%\n"
    }
   }
  },
  {
   "cell_type": "code",
   "execution_count": 72,
   "outputs": [],
   "source": [
    "def flatten(data_list: list):\n",
    "    flat_list = [item for sublist in data_list for item in sublist]\n",
    "    return flat_list"
   ],
   "metadata": {
    "collapsed": false,
    "pycharm": {
     "name": "#%%\n"
    }
   }
  },
  {
   "cell_type": "code",
   "execution_count": 73,
   "outputs": [],
   "source": [
    "def fitness(genome: list):\n",
    "    genome_cost = 0\n",
    "    for i, gene in enumerate(genome):\n",
    "        if gene:\n",
    "            genome_cost +=len(space[i])\n",
    "\n",
    "    return  -genome_cost\n",
    "\n",
    "\n",
    "def tournament(population, tournament_size=2):\n",
    "    return max(random.choices(population, k=tournament_size), key=lambda i: i.fitness)\n",
    "\n",
    "\n",
    "def cross_over(g1, g2):\n",
    "    cut = random.randint(0, len(g1)-1)\n",
    "    return g1[:cut] + g2[cut:]\n",
    "\n",
    "\n",
    "def mutation(g):\n",
    "    point = random.randint(0, len(g) - 1)\n",
    "    return g[:point] + list((1 - g[point],)) + g[point + 1 :]\n",
    "\n",
    "def decode_solution(genome: list):\n",
    "    solution = list()\n",
    "    for i,gene in enumerate(genome):\n",
    "        if gene == True:\n",
    "            solution.append(space[i])\n",
    "    return solution\n",
    "\n",
    "def goal_reach(genome: list):\n",
    "    solution = decode_solution(genome)\n",
    "    unique_element = np.unique(np.array(flatten(solution)))\n",
    "    return len(unique_element) == PROBLEM_SIZE\n",
    "\n",
    "def cover_all_set(genome: list):\n",
    "    discovered_elements = list()\n",
    "    for i,gene in enumerate(genome):\n",
    "        if gene:\n",
    "            discovered_elements.append(space[i])\n",
    "\n",
    "    discovered_elements = flatten(discovered_elements)\n",
    "    discovered_elements = np.unique(np.array(discovered_elements))\n",
    "    if len(discovered_elements) == PROBLEM_SIZE:\n",
    "        return True\n",
    "    return False\n",
    "\n"
   ],
   "metadata": {
    "collapsed": false,
    "pycharm": {
     "name": "#%%\n"
    }
   }
  },
  {
   "cell_type": "code",
   "execution_count": 74,
   "outputs": [],
   "source": [
    "\n",
    "population = list()\n",
    "for i in range(POPULATION_SIZE):\n",
    "    individuals = list()\n",
    "    genome = [random.choice([0, 1]) for _ in range(len(space))]\n",
    "    population.append(Individual(genome=genome, fitness=fitness(genome)))\n"
   ],
   "metadata": {
    "collapsed": false,
    "pycharm": {
     "name": "#%%\n"
    }
   }
  },
  {
   "cell_type": "code",
   "execution_count": 75,
   "outputs": [],
   "source": [
    "fitness_log = [(0, i.fitness) for i in population]\n",
    "\n",
    "for generation in range(NUM_GENERATIONS):\n",
    "    offspring = list()\n",
    "    for i in range(OFFSPRING_SIZE):\n",
    "        if random.random() < 0.3:\n",
    "            selected_parent = tournament(population)\n",
    "            genome = mutation(selected_parent.genome)\n",
    "        else:\n",
    "            p1 = tournament(population)\n",
    "            p2 = tournament(population)\n",
    "            genome = cross_over(p1.genome, p2.genome)\n",
    "        if cover_all_set(genome):\n",
    "            fitness_new = fitness(genome)\n",
    "            fitness_log.append((generation + 1, fitness_new))\n",
    "            offspring.append(Individual(genome, fitness_new))\n",
    "    population += offspring\n",
    "    population = sorted(population, key=lambda i: i.fitness, reverse=True)[:POPULATION_SIZE]\n",
    "\n"
   ],
   "metadata": {
    "collapsed": false,
    "pycharm": {
     "name": "#%%\n"
    }
   }
  },
  {
   "cell_type": "code",
   "execution_count": 76,
   "outputs": [
    {
     "name": "stdout",
     "output_type": "stream",
     "text": [
      "-N: 500: Total weight: 53722; (bloat=10644%)\n"
     ]
    }
   ],
   "source": [
    "logging.getLogger().setLevel(logging.INFO)\n",
    "if population[0] != []:\n",
    "    solution = decode_solution(population[0].genome)\n",
    "    print(\n",
    "        f\"-N: {PROBLEM_SIZE}: \"\n",
    "        f\"Total weight: {sum(len(_) for _ in solution)}; \"\n",
    "        f\"(bloat={(sum(len(_) for _ in solution)-PROBLEM_SIZE)/PROBLEM_SIZE*100:.0f}%)\"\n",
    "    )\n",
    "else:\n",
    "    print(\n",
    "        f\"Solution not found!\"\n",
    "    )"
   ],
   "metadata": {
    "collapsed": false,
    "pycharm": {
     "name": "#%%\n"
    }
   }
  }
 ],
 "metadata": {
  "kernelspec": {
   "display_name": "Python 3",
   "language": "python",
   "name": "python3"
  },
  "language_info": {
   "codemirror_mode": {
    "name": "ipython",
    "version": 2
   },
   "file_extension": ".py",
   "mimetype": "text/x-python",
   "name": "python",
   "nbconvert_exporter": "python",
   "pygments_lexer": "ipython2",
   "version": "2.7.6"
  }
 },
 "nbformat": 4,
 "nbformat_minor": 0
}