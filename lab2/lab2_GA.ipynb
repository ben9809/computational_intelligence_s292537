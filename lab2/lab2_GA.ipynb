{
 "cells": [
  {
   "cell_type": "code",
   "execution_count": 73,
   "metadata": {
    "executionInfo": {
     "elapsed": 288,
     "status": "ok",
     "timestamp": 1669749650273,
     "user": {
      "displayName": "Benedetto Leto",
      "userId": "09050615020704389753"
     },
     "user_tz": -60
    },
    "id": "IlmU9FyENIT1",
    "pycharm": {
     "name": "#%%\n"
    }
   },
   "outputs": [],
   "source": [
    "import random\n",
    "import math\n",
    "import numpy as np"
   ]
  },
  {
   "cell_type": "code",
   "execution_count": 74,
   "metadata": {
    "executionInfo": {
     "elapsed": 4,
     "status": "ok",
     "timestamp": 1669749651201,
     "user": {
      "displayName": "Benedetto Leto",
      "userId": "09050615020704389753"
     },
     "user_tz": -60
    },
    "id": "WQYRcjKdNIT5",
    "pycharm": {
     "name": "#%%\n"
    }
   },
   "outputs": [],
   "source": [
    "def problem(N, seed=None):\n",
    "    random.seed(seed)\n",
    "    return [\n",
    "        list(set(random.randint(0, N - 1) for n in range(random.randint(N // 5, N // 2))))\n",
    "        for n in range(random.randint(N, N * 5))\n",
    "    ]\n"
   ]
  },
  {
   "cell_type": "markdown",
   "source": [
    "**Definition of the class Individual**"
   ],
   "metadata": {
    "id": "jxAyK6dSvbRo",
    "pycharm": {
     "name": "#%% md\n"
    }
   }
  },
  {
   "cell_type": "code",
   "execution_count": 99,
   "metadata": {
    "executionInfo": {
     "elapsed": 241,
     "status": "ok",
     "timestamp": 1669750074859,
     "user": {
      "displayName": "Benedetto Leto",
      "userId": "09050615020704389753"
     },
     "user_tz": -60
    },
    "id": "WSSuLv1INIT6",
    "pycharm": {
     "name": "#%%\n"
    }
   },
   "outputs": [],
   "source": [
    "class Individual:\n",
    "    def __init__(self, genome: list, space: np.array):\n",
    "        self.genome = np.array(genome)\n",
    "        list_covered_elm = space[np.where(self.genome == 1)[0]]\n",
    "        cost = sum(list(map(lambda x: len(x), list_covered_elm)))\n",
    "        covered_elm = len(np.unique(np.hstack(list_covered_elm)))\n",
    "        self.fitness = (covered_elm, PROBLEM_SIZE-cost)\n",
    "\n",
    "    def weight(self):\n",
    "      return -(self.fitness[1]-PROBLEM_SIZE)\n",
    "    \n",
    "    def get_covered_elements(self):\n",
    "      list_covered_elm = space[np.where(self.genome == 1)[0]]\n",
    "      return list_covered_elm"
   ]
  },
  {
   "cell_type": "markdown",
   "source": [
    "**Hyperparameters**"
   ],
   "metadata": {
    "id": "PW9bTTSTu_YF",
    "pycharm": {
     "name": "#%% md\n"
    }
   }
  },
  {
   "cell_type": "code",
   "execution_count": 105,
   "metadata": {
    "executionInfo": {
     "elapsed": 649,
     "status": "ok",
     "timestamp": 1669750150233,
     "user": {
      "displayName": "Benedetto Leto",
      "userId": "09050615020704389753"
     },
     "user_tz": -60
    },
    "id": "EL390N9fNIT7",
    "pycharm": {
     "name": "#%%\n"
    }
   },
   "outputs": [],
   "source": [
    "PROBLEM_SIZE = 500 #define the problem size\n",
    "POPULATION_SIZE = 2*PROBLEM_SIZE #tuned\n",
    "NUM_GENERATIONS = 800 #tuned\n",
    "MUTATION_RATE = 0.35 #tuned\n",
    "OFFSPRING_SIZE = math.ceil(1.5*PROBLEM_SIZE)\n",
    "space = problem(PROBLEM_SIZE, seed=42)\n",
    "space = np.array([np.asarray(xi) for xi in space], dtype=set)\n",
    "GENOME_SIZE = len(space)"
   ]
  },
  {
   "cell_type": "markdown",
   "source": [
    "**Generate Population of Individuals**"
   ],
   "metadata": {
    "id": "fiLNWFUMvvS7",
    "pycharm": {
     "name": "#%% md\n"
    }
   }
  },
  {
   "cell_type": "code",
   "execution_count": 106,
   "metadata": {
    "executionInfo": {
     "elapsed": 9739,
     "status": "ok",
     "timestamp": 1669750161280,
     "user": {
      "displayName": "Benedetto Leto",
      "userId": "09050615020704389753"
     },
     "user_tz": -60
    },
    "id": "zzbSZkSqNIT8",
    "pycharm": {
     "name": "#%%\n"
    }
   },
   "outputs": [],
   "source": [
    "population = [Individual(genome=[random.choice([0, 1]) for _ in range(GENOME_SIZE)], space=space) for i in range(POPULATION_SIZE)]"
   ]
  },
  {
   "cell_type": "markdown",
   "metadata": {
    "collapsed": false,
    "id": "08wd6C3UNIT9",
    "pycharm": {
     "name": "#%% md\n"
    }
   },
   "source": [
    "**Define GA operators**"
   ]
  },
  {
   "cell_type": "code",
   "execution_count": 107,
   "metadata": {
    "executionInfo": {
     "elapsed": 29,
     "status": "ok",
     "timestamp": 1669750161281,
     "user": {
      "displayName": "Benedetto Leto",
      "userId": "09050615020704389753"
     },
     "user_tz": -60
    },
    "id": "R29_2sDtNIT_",
    "pycharm": {
     "name": "#%%\n"
    }
   },
   "outputs": [],
   "source": [
    "def tournament(population, tournament_size=2):\n",
    "    return max(random.choices(population, k=tournament_size), key=lambda i: i.fitness)\n",
    "\n",
    "\n",
    "def crossover(g1, g2):\n",
    "    cut = random.randint(0, len(g1))\n",
    "    return list(np.concatenate((g1[:cut],g2[cut:])))\n",
    "    #return g1[:cut] + g2[cut:]\n",
    "\n",
    "\n",
    "def mutation(g):\n",
    "    point = random.randint(0, len(g) - 1)\n",
    "    return list(np.concatenate((g[:point],np.array((1 - g[point],)), g[point + 1 :])))\n",
    "    #return g[:point] + list((1 - g[point],)) + g[point + 1 :]"
   ]
  },
  {
   "cell_type": "markdown",
   "metadata": {
    "collapsed": false,
    "id": "PYj6ZdsXNIT_",
    "pycharm": {
     "name": "#%% md\n"
    }
   },
   "source": [
    "**GA algorithm**"
   ]
  },
  {
   "cell_type": "code",
   "execution_count": null,
   "metadata": {
    "id": "KrQgMRvRNIUA",
    "pycharm": {
     "name": "#%%\n"
    }
   },
   "outputs": [],
   "source": [
    "from re import MULTILINE\n",
    "for generation in range(NUM_GENERATIONS):\n",
    "    offspring = list()\n",
    "    genomes = list(map(lambda x: list(x.genome), population))\n",
    "    for i in range(OFFSPRING_SIZE):\n",
    "        p1 = tournament(population)\n",
    "        p2 = tournament(population)\n",
    "        genome = crossover(p1.genome, p2.genome)\n",
    "        if random.random() < MUTATION_RATE:\n",
    "             genome = mutation(genome)\n",
    "        if genome not in genomes:\n",
    "          individual = Individual(genome=genome, space=space)\n",
    "          offspring.append(individual)\n",
    "    population += offspring\n",
    "    population = sorted(population, key=lambda i: i.fitness, reverse=True)[:POPULATION_SIZE]"
   ]
  },
  {
   "cell_type": "markdown",
   "source": [
    "**Report Metrics**"
   ],
   "metadata": {
    "id": "HQ3JK9Lr26sO",
    "pycharm": {
     "name": "#%% md\n"
    }
   }
  },
  {
   "cell_type": "code",
   "execution_count": null,
   "metadata": {
    "colab": {
     "base_uri": "https://localhost:8080/"
    },
    "executionInfo": {
     "elapsed": 219,
     "status": "ok",
     "timestamp": 1669750127091,
     "user": {
      "displayName": "Benedetto Leto",
      "userId": "09050615020704389753"
     },
     "user_tz": -60
    },
    "id": "VvC7zzF6NIUB",
    "outputId": "d297e8b8-cc98-45f3-8a1a-a55646826ec7",
    "pycharm": {
     "name": "#%%\n",
     "is_executing": true
    }
   },
   "outputs": [],
   "source": [
    "print(\n",
    "    f\"-N: {PROBLEM_SIZE}: \"\n",
    "    f\"Total weight: {population[0].weight()}; \"\n",
    "    f\"(bloat={(population[0].weight()-PROBLEM_SIZE)/PROBLEM_SIZE*100:.0f}%)\"\n",
    ")"
   ]
  }
 ],
 "metadata": {
  "colab": {
   "provenance": []
  },
  "kernelspec": {
   "display_name": "Python 3",
   "language": "python",
   "name": "python3"
  },
  "language_info": {
   "codemirror_mode": {
    "name": "ipython",
    "version": 2
   },
   "file_extension": ".py",
   "mimetype": "text/x-python",
   "name": "python",
   "nbconvert_exporter": "python",
   "pygments_lexer": "ipython2",
   "version": "2.7.6"
  }
 },
 "nbformat": 4,
 "nbformat_minor": 0
}