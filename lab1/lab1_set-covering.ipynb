{
 "cells": [
  {
   "cell_type": "markdown",
   "metadata": {
    "pycharm": {
     "name": "#%% md\n"
    }
   },
   "source": [
    "Copyright **`(c)`** 2022 Giovanni Squillero `<squillero@polito.it>`  \n",
    "[`https://github.com/squillero/computational-intelligence`](https://github.com/squillero/computational-intelligence)  \n",
    "Free for personal or classroom use; see [`LICENSE.md`](https://github.com/squillero/computational-intelligence/blob/master/LICENSE.md) for details.  \n"
   ]
  },
  {
   "cell_type": "code",
   "execution_count": 1,
   "outputs": [
    {
     "ename": "SyntaxError",
     "evalue": "invalid syntax (1857879623.py, line 3)",
     "output_type": "error",
     "traceback": [
      "\u001B[0;36m  Cell \u001B[0;32mIn [1], line 3\u001B[0;36m\u001B[0m\n\u001B[0;31m    First lab + peer review. List this activity in your final report, it will be part of your exam.\u001B[0m\n\u001B[0m          ^\u001B[0m\n\u001B[0;31mSyntaxError\u001B[0m\u001B[0;31m:\u001B[0m invalid syntax\n"
     ]
    }
   ],
   "source": [
    "# Lab 1: Set Covering\n",
    "\n",
    "First lab + peer review. List this activity in your final report, it will be part of your exam.\n",
    "\n",
    "## Task\n",
    "\n",
    "Given a number $N$ and some lists of integers $P = (L_0, L_1, L_2, ..., L_n)$, \n",
    "determine, if possible, $S = (L_{s_0}, L_{s_1}, L_{s_2}, ..., L_{s_n})$\n",
    "such that each number between $0$ and $N-1$ appears in at least one list\n",
    "\n",
    "$$\\forall n \\in [0, N-1] \\ \\exists i : n \\in L_{s_i}$$\n",
    "\n",
    "and that the total numbers of elements in all $L_{s_i}$ is minimum. \n",
    "\n",
    "## Instructions\n",
    "\n",
    "* Create the directory `lab1` inside the course repo (the one you registered with Andrea)\n",
    "* Put a `README.md` and your solution (all the files, code and auxiliary data if needed)\n",
    "* Use `problem` to generate the problems with different $N$\n",
    "* In the `README.md`, report the the total numbers of elements in $L_{s_i}$ for problem with $N \\in [5, 10, 20, 100, 500, 1000]$ and the total number on $nodes$ visited during the search. Use `seed=42`.\n",
    "* Use `GitHub Issues` to peer review others' lab\n",
    "\n",
    "## Notes\n",
    "\n",
    "* Working in group is not only allowed, but recommended (see: [Ubuntu](https://en.wikipedia.org/wiki/Ubuntu_philosophy) and [Cooperative Learning](https://files.eric.ed.gov/fulltext/EJ1096789.pdf)). Collaborations must be explicitly declared in the `README.md`.\n",
    "* [Yanking](https://www.emacswiki.org/emacs/KillingAndYanking) from the internet is allowed, but sources must be explicitly declared in the `README.md`.\n",
    "\n",
    "**Deadline**\n",
    "\n",
    "* Sunday, October 16th 23:59:59 for the working solution\n",
    "* Sunday, October 23rd 23:59:59 for the peer reviews"
   ],
   "metadata": {
    "collapsed": false,
    "pycharm": {
     "name": "#%%\n"
    }
   }
  },
  {
   "cell_type": "code",
   "execution_count": 5,
   "metadata": {
    "pycharm": {
     "name": "#%%\n"
    }
   },
   "outputs": [],
   "source": [
    "import random\n",
    "import numpy as np\n",
    "from typing import Callable\n",
    "import logging"
   ]
  },
  {
   "cell_type": "code",
   "execution_count": 6,
   "outputs": [],
   "source": [
    "import heapq\n",
    "from collections import Counter\n",
    "\n",
    "\n",
    "class PriorityQueue:\n",
    "    \"\"\"A basic Priority Queue with simple performance optimizations\"\"\"\n",
    "\n",
    "    def __init__(self):\n",
    "        self._data_heap = list()\n",
    "        self._data_set = set()\n",
    "\n",
    "    def __bool__(self):\n",
    "        return bool(self._data_set)\n",
    "\n",
    "    def __contains__(self, item):\n",
    "        return item in self._data_set\n",
    "\n",
    "    def push(self, item, p=None):\n",
    "        assert item not in self, f\"Duplicated element\"\n",
    "        if p is None:\n",
    "            p = len(self._data_set)\n",
    "        self._data_set.add(item)\n",
    "        heapq.heappush(self._data_heap, (p, item))\n",
    "\n",
    "    def pop(self):\n",
    "        p, item = heapq.heappop(self._data_heap)\n",
    "        self._data_set.remove(item)\n",
    "        return item\n",
    "\n",
    "\n",
    "class Multiset:\n",
    "    \"\"\"Multiset\"\"\"\n",
    "\n",
    "    def __init__(self, init=None):\n",
    "        self._data = Counter()\n",
    "        if init:\n",
    "            for item in init:\n",
    "                self.add(item)\n",
    "\n",
    "    def __contains__(self, item):\n",
    "        return item in self._data and self._data[item] > 0\n",
    "\n",
    "    def __getitem__(self, item):\n",
    "        return self.count(item)\n",
    "\n",
    "    def __iter__(self):\n",
    "        return (i for i in sorted(self._data.keys()) for _ in range(self._data[i]))\n",
    "\n",
    "    def __len__(self):\n",
    "        return sum(self._data.values())\n",
    "\n",
    "    def __copy__(self):\n",
    "        t = Multiset()\n",
    "        t._data = self._data.copy()\n",
    "        return t\n",
    "\n",
    "    def __str__(self):\n",
    "        return f\"M{{{', '.join(repr(i) for i in self)}}}\"\n",
    "\n",
    "    def __repr__(self):\n",
    "        return str(self)\n",
    "\n",
    "    def __or__(self, other: \"Multiset\"):\n",
    "        tmp = Multiset()\n",
    "        for i in set(self._data.keys()) | set(other._data.keys()):\n",
    "            tmp.add(i, cnt=max(self[i], other[i]))\n",
    "        return tmp\n",
    "\n",
    "    def __and__(self, other: \"Multiset\"):\n",
    "        return self.intersection(other)\n",
    "\n",
    "    def __add__(self, other: \"Multiset\"):\n",
    "        return self.union(other)\n",
    "\n",
    "    def __sub__(self, other: \"Multiset\"):\n",
    "        tmp = Multiset(self)\n",
    "        for i, n in other._data.items():\n",
    "            tmp.remove(i, cnt=n)\n",
    "        return tmp\n",
    "\n",
    "    def __eq__(self, other: \"Multiset\"):\n",
    "        return list(self) == list(other)\n",
    "\n",
    "    def __le__(self, other: \"Multiset\"):\n",
    "        for i, n in self._data.items():\n",
    "            if other.count(i) < n:\n",
    "                return False\n",
    "        return True\n",
    "\n",
    "    def __lt__(self, other: \"Multiset\"):\n",
    "        return self <= other and not self == other\n",
    "\n",
    "    def __ge__(self, other: \"Multiset\"):\n",
    "        return other <= self\n",
    "\n",
    "    def __gt__(self, other: \"Multiset\"):\n",
    "        return other < self\n",
    "\n",
    "    def add(self, item, *, cnt=1):\n",
    "        assert cnt >= 0, \"Can't add a negative number of elements\"\n",
    "        if cnt > 0:\n",
    "            self._data[item] += cnt\n",
    "\n",
    "    def remove(self, item, *, cnt=1):\n",
    "        assert item in self, f\"Item not in collection\"\n",
    "        self._data[item] -= cnt\n",
    "        if self._data[item] <= 0:\n",
    "            del self._data[item]\n",
    "\n",
    "    def count(self, item):\n",
    "        return self._data[item] if item in self._data else 0\n",
    "\n",
    "    def union(self, other: \"Multiset\"):\n",
    "        t = Multiset(self)\n",
    "        for i in other._data.keys():\n",
    "            t.add(i, cnt=other[i])\n",
    "        return t\n",
    "\n",
    "    def intersection(self, other: \"Multiset\"):\n",
    "        t = Multiset()\n",
    "        for i in self._data.keys():\n",
    "            t.add(i, cnt=min(self[i], other[i]))\n",
    "        return t\n"
   ],
   "metadata": {
    "collapsed": false,
    "pycharm": {
     "name": "#%%\n"
    }
   }
  },
  {
   "cell_type": "code",
   "execution_count": 7,
   "metadata": {
    "pycharm": {
     "name": "#%%\n"
    }
   },
   "outputs": [],
   "source": [
    "def problem(N, seed=None):\n",
    "    random.seed(seed)\n",
    "    return [\n",
    "        list(set(random.randint(0, N - 1) for n in range(random.randint(N // 5, N // 2))))\n",
    "        for n in range(random.randint(N, N * 5))\n",
    "    ]"
   ]
  },
  {
   "cell_type": "code",
   "execution_count": 8,
   "metadata": {
    "pycharm": {
     "name": "#%%\n"
    }
   },
   "outputs": [],
   "source": [
    "\n",
    "def greedy(N):\n",
    "    goal = set(range(N))\n",
    "    covered = set()\n",
    "    solution = list()\n",
    "    all_lists = sorted(problem(N, seed=42), key=lambda l: len(l))\n",
    "    while goal != covered:\n",
    "        x = all_lists.pop(0)\n",
    "        if not set(x) < covered:\n",
    "            solution.append(x)\n",
    "            covered |= set(x)\n",
    "\n",
    "    logging.info(\n",
    "        f\"Greedy solution for N={N}: w={sum(len(_) for _ in solution)} (bloat={(sum(len(_) for _ in solution)-N)/N*100:.0f}%)\"\n",
    "    )\n",
    "    logging.debug(f\"{solution}\")"
   ]
  },
  {
   "cell_type": "code",
   "execution_count": 9,
   "metadata": {
    "pycharm": {
     "name": "#%%\n"
    }
   },
   "outputs": [
    {
     "name": "stderr",
     "output_type": "stream",
     "text": [
      "INFO:root:Greedy solution for N=5: w=5 (bloat=0%)\n",
      "INFO:root:Greedy solution for N=10: w=13 (bloat=30%)\n",
      "INFO:root:Greedy solution for N=20: w=46 (bloat=130%)\n",
      "INFO:root:Greedy solution for N=100: w=332 (bloat=232%)\n",
      "INFO:root:Greedy solution for N=500: w=2162 (bloat=332%)\n",
      "INFO:root:Greedy solution for N=1000: w=4652 (bloat=365%)\n"
     ]
    }
   ],
   "source": [
    "logging.getLogger().setLevel(logging.INFO)\n",
    "for N in [5, 10, 20, 100, 500, 1000]:\n",
    "    greedy(N)"
   ]
  },
  {
   "cell_type": "code",
   "execution_count": 10,
   "metadata": {
    "pycharm": {
     "name": "#%%\n"
    }
   },
   "outputs": [
    {
     "name": "stderr",
     "output_type": "stream",
     "text": [
      "INFO:root:Greedy solution for N=500: w=2162 (bloat=332%)\n",
      "INFO:root:Greedy solution for N=500: w=2162 (bloat=332%)\n",
      "INFO:root:Greedy solution for N=500: w=2162 (bloat=332%)\n",
      "INFO:root:Greedy solution for N=500: w=2162 (bloat=332%)\n",
      "INFO:root:Greedy solution for N=500: w=2162 (bloat=332%)\n",
      "INFO:root:Greedy solution for N=500: w=2162 (bloat=332%)\n",
      "INFO:root:Greedy solution for N=500: w=2162 (bloat=332%)\n",
      "INFO:root:Greedy solution for N=500: w=2162 (bloat=332%)\n"
     ]
    },
    {
     "name": "stdout",
     "output_type": "stream",
     "text": [
      "411 ms ± 49.9 ms per loop (mean ± std. dev. of 7 runs, 1 loop each)\n"
     ]
    }
   ],
   "source": [
    "%timeit greedy(5_00)"
   ]
  },
  {
   "cell_type": "code",
   "execution_count": 11,
   "outputs": [],
   "source": [
    "def flatten(data_list: list):\n",
    "    flat_list = [item for sublist in data_list for item in sublist]\n",
    "    return flat_list"
   ],
   "metadata": {
    "collapsed": false,
    "pycharm": {
     "name": "#%%\n"
    }
   }
  },
  {
   "cell_type": "code",
   "execution_count": 12,
   "metadata": {
    "pycharm": {
     "name": "#%%\n"
    }
   },
   "outputs": [],
   "source": [
    "class State:\n",
    "    def __init__(self, data: list):\n",
    "        self._data = data.copy()\n",
    "        self._set_data = set(flatten(data))\n",
    "\n",
    "    def __hash__(self):\n",
    "        data = flatten(self._data)\n",
    "        data = [element % 256 for element in data]\n",
    "        return hash(bytes(data))\n",
    "\n",
    "    def __eq__(self, other):\n",
    "        data = flatten(self._data)\n",
    "        data = [element % 256 for element in data]\n",
    "        other_data = flatten(other._data)\n",
    "        other_data = [element % 256 for element in other_data]\n",
    "        return bytes(data) == bytes(other_data)\n",
    "\n",
    "    def __lt__(self, other):\n",
    "        data = flatten(self._data)\n",
    "        data = [element % 256 for element in data]\n",
    "        other_data = flatten(other._data)\n",
    "        other_data = [element % 256 for element in other_data]\n",
    "        return bytes(data) < bytes(other_data)\n",
    "\n",
    "    def __str__(self):\n",
    "        return str(self._data)\n",
    "\n",
    "    def __repr__(self):\n",
    "        return repr(self._data)\n",
    "\n",
    "    @property\n",
    "    def data(self):\n",
    "        return self._data\n",
    "\n",
    "    def cost(self):\n",
    "        return sum([len(_) for _ in self._data])\n",
    "\n",
    "    def print_lists (self):\n",
    "        for x in self._data:\n",
    "            print(x)\n",
    "\n",
    "\n",
    "    def copy_data(self):\n",
    "        return self._data.copy()"
   ]
  },
  {
   "cell_type": "code",
   "execution_count": 13,
   "outputs": [],
   "source": [
    "def result(state, action):\n",
    "    prev_state_list = state._data.copy()\n",
    "    new_list = prev_state_list\n",
    "    new_list.append(action)\n",
    "    return State(new_list)"
   ],
   "metadata": {
    "collapsed": false,
    "pycharm": {
     "name": "#%%\n"
    }
   }
  },
  {
   "cell_type": "code",
   "execution_count": 14,
   "outputs": [],
   "source": [
    "def goal_test(state, N):\n",
    "    return len(state._set_data) == N"
   ],
   "metadata": {
    "collapsed": false,
    "pycharm": {
     "name": "#%%\n"
    }
   }
  },
  {
   "cell_type": "code",
   "execution_count": 15,
   "outputs": [],
   "source": [
    "def possible_actions(state, space):\n",
    "    possible_steps = []\n",
    "    for step in space:\n",
    "        if step not in state.data:\n",
    "            possible_steps.append(step)\n",
    "    return possible_steps"
   ],
   "metadata": {
    "collapsed": false,
    "pycharm": {
     "name": "#%%\n"
    }
   }
  },
  {
   "cell_type": "code",
   "execution_count": 23,
   "outputs": [],
   "source": [
    "def search(\n",
    "    goal_test: Callable,\n",
    "    parent_state: dict,\n",
    "    state_cost: dict,\n",
    "    priority_function: Callable,\n",
    "    cost_function: Callable,\n",
    "    N: int,\n",
    "    space,\n",
    "    name: str\n",
    "):\n",
    "    #space = sorted(problem(N, seed=42), key=lambda l: -len(l))\n",
    "    frontier = PriorityQueue()\n",
    "    parent_state.clear()\n",
    "    state_cost.clear()\n",
    "\n",
    "    initial_state = State([space[0]])\n",
    "    state = initial_state\n",
    "    parent_state[state] = None\n",
    "    state_cost[state] = state.cost()\n",
    "\n",
    "\n",
    "    while state is not None and not goal_test(state, N):\n",
    "        for step in possible_actions(state, space):\n",
    "            new_state = result(state, step)\n",
    "            cost = cost_function(step)\n",
    "            if new_state not in state_cost and new_state not in frontier:\n",
    "                state_cost[new_state] = state_cost[state] + cost\n",
    "                frontier.push(new_state, p=priority_function(new_state))\n",
    "                logging.debug(f\"Added new node to frontier (cost={state_cost[new_state]})\")\n",
    "            elif new_state in frontier and state_cost[new_state] > state_cost[state] + cost:\n",
    "                old_cost = state_cost[new_state]\n",
    "                state_cost[new_state] = state_cost[state] + cost\n",
    "                logging.debug(f\"Updated node cost in frontier: {old_cost} -> {state_cost[new_state]}\")\n",
    "        if frontier:\n",
    "            state = frontier.pop()\n",
    "        else:\n",
    "            state = None\n",
    "    if state is None:\n",
    "        print(\"Not able to find the solution\")\n",
    "        return\n",
    "\n",
    "    print (f\"- N = {N}\")\n",
    "    print(f\"    weight = {state.cost()}, bloat = {(state.cost() - N)/N * 100:.1f}\")\n",
    "    print(f\"    total visited nodes =  {len(state_cost)}\")\n",
    "    print()"
   ],
   "metadata": {
    "collapsed": false,
    "pycharm": {
     "name": "#%%\n"
    }
   }
  },
  {
   "cell_type": "markdown",
   "source": [
    "## Breadth-First Search"
   ],
   "metadata": {
    "collapsed": false,
    "pycharm": {
     "name": "#%% md\n"
    }
   }
  },
  {
   "cell_type": "code",
   "execution_count": 22,
   "outputs": [
    {
     "name": "stdout",
     "output_type": "stream",
     "text": [
      "- N = 5\n",
      "    weight = 5, bloat = 0.0\n",
      "    total nodes =  213\n",
      "\n",
      "- N = 10\n",
      "    weight = 15, bloat = 50.0\n",
      "    total nodes =  71935\n",
      "\n"
     ]
    },
    {
     "ename": "KeyboardInterrupt",
     "evalue": "",
     "output_type": "error",
     "traceback": [
      "\u001B[0;31m---------------------------------------------------------------------------\u001B[0m",
      "\u001B[0;31mKeyboardInterrupt\u001B[0m                         Traceback (most recent call last)",
      "Cell \u001B[0;32mIn [22], line 6\u001B[0m\n\u001B[1;32m      3\u001B[0m \u001B[38;5;28;01mfor\u001B[39;00m N \u001B[38;5;129;01min\u001B[39;00m [\u001B[38;5;241m5\u001B[39m, \u001B[38;5;241m10\u001B[39m, \u001B[38;5;241m20\u001B[39m]:\n\u001B[1;32m      4\u001B[0m     space \u001B[38;5;241m=\u001B[39m problem(N, seed\u001B[38;5;241m=\u001B[39m\u001B[38;5;241m42\u001B[39m)\n\u001B[0;32m----> 6\u001B[0m     search(\n\u001B[1;32m      7\u001B[0m         goal_test\u001B[38;5;241m=\u001B[39mgoal_test,\n\u001B[1;32m      8\u001B[0m         parent_state\u001B[38;5;241m=\u001B[39mparent_state,\n\u001B[1;32m      9\u001B[0m         state_cost\u001B[38;5;241m=\u001B[39mstate_cost,\n\u001B[1;32m     10\u001B[0m         priority_function\u001B[38;5;241m=\u001B[39m\u001B[38;5;28;01mlambda\u001B[39;00m s: \u001B[38;5;28mlen\u001B[39m(state_cost),\n\u001B[1;32m     11\u001B[0m         cost_function\u001B[38;5;241m=\u001B[39m\u001B[38;5;28;01mlambda\u001B[39;00m a: \u001B[38;5;28mlen\u001B[39m(a),\n\u001B[1;32m     12\u001B[0m         N \u001B[38;5;241m=\u001B[39m N,\n\u001B[1;32m     13\u001B[0m         space \u001B[38;5;241m=\u001B[39m space,\n\u001B[1;32m     14\u001B[0m         name\u001B[38;5;241m=\u001B[39m\u001B[38;5;124m\"\u001B[39m\u001B[38;5;124mBreadth-First Search\u001B[39m\u001B[38;5;124m\"\u001B[39m\n\u001B[1;32m     15\u001B[0m     )\n",
      "Cell \u001B[0;32mIn [21], line 26\u001B[0m, in \u001B[0;36msearch\u001B[0;34m(goal_test, parent_state, state_cost, priority_function, cost_function, N, space, name)\u001B[0m\n\u001B[1;32m     24\u001B[0m new_state \u001B[38;5;241m=\u001B[39m result(state, step)\n\u001B[1;32m     25\u001B[0m cost \u001B[38;5;241m=\u001B[39m cost_function(step)\n\u001B[0;32m---> 26\u001B[0m \u001B[38;5;28;01mif\u001B[39;00m new_state \u001B[38;5;129;01mnot\u001B[39;00m \u001B[38;5;129;01min\u001B[39;00m state_cost \u001B[38;5;129;01mand\u001B[39;00m \u001B[43mnew_state\u001B[49m\u001B[43m \u001B[49m\u001B[38;5;129;43;01mnot\u001B[39;49;00m\u001B[43m \u001B[49m\u001B[38;5;129;43;01min\u001B[39;49;00m\u001B[43m \u001B[49m\u001B[43mfrontier\u001B[49m:\n\u001B[1;32m     27\u001B[0m     state_cost[new_state] \u001B[38;5;241m=\u001B[39m state_cost[state] \u001B[38;5;241m+\u001B[39m cost\n\u001B[1;32m     28\u001B[0m     frontier\u001B[38;5;241m.\u001B[39mpush(new_state, p\u001B[38;5;241m=\u001B[39mpriority_function(new_state))\n",
      "Cell \u001B[0;32mIn [6], line 16\u001B[0m, in \u001B[0;36mPriorityQueue.__contains__\u001B[0;34m(self, item)\u001B[0m\n\u001B[1;32m     15\u001B[0m \u001B[38;5;28;01mdef\u001B[39;00m \u001B[38;5;21m__contains__\u001B[39m(\u001B[38;5;28mself\u001B[39m, item):\n\u001B[0;32m---> 16\u001B[0m     \u001B[38;5;28;01mreturn\u001B[39;00m \u001B[43mitem\u001B[49m\u001B[43m \u001B[49m\u001B[38;5;129;43;01min\u001B[39;49;00m\u001B[43m \u001B[49m\u001B[38;5;28;43mself\u001B[39;49m\u001B[38;5;241;43m.\u001B[39;49m\u001B[43m_data_set\u001B[49m\n",
      "Cell \u001B[0;32mIn [12], line 9\u001B[0m, in \u001B[0;36mState.__hash__\u001B[0;34m(self)\u001B[0m\n\u001B[1;32m      7\u001B[0m data \u001B[38;5;241m=\u001B[39m flatten(\u001B[38;5;28mself\u001B[39m\u001B[38;5;241m.\u001B[39m_data)\n\u001B[1;32m      8\u001B[0m data \u001B[38;5;241m=\u001B[39m [element \u001B[38;5;241m%\u001B[39m \u001B[38;5;241m256\u001B[39m \u001B[38;5;28;01mfor\u001B[39;00m element \u001B[38;5;129;01min\u001B[39;00m data]\n\u001B[0;32m----> 9\u001B[0m \u001B[38;5;28;01mreturn\u001B[39;00m \u001B[38;5;28mhash\u001B[39m(\u001B[38;5;28;43mbytes\u001B[39;49m\u001B[43m(\u001B[49m\u001B[43mdata\u001B[49m\u001B[43m)\u001B[49m)\n",
      "\u001B[0;31mKeyboardInterrupt\u001B[0m: "
     ]
    }
   ],
   "source": [
    "parent_state = dict()\n",
    "state_cost = dict()\n",
    "for N in [5, 10, 20]:\n",
    "    space = problem(N, seed=42)\n",
    "\n",
    "    search(\n",
    "        goal_test=goal_test,\n",
    "        parent_state=parent_state,\n",
    "        state_cost=state_cost,\n",
    "        priority_function=lambda s: len(state_cost),\n",
    "        cost_function=lambda a: len(a),\n",
    "        N = N,\n",
    "        space = space,\n",
    "        name=\"Breadth-First Search\"\n",
    "    )"
   ],
   "metadata": {
    "collapsed": false,
    "pycharm": {
     "name": "#%%\n"
    }
   }
  },
  {
   "cell_type": "markdown",
   "source": [
    "## Depth-First Search"
   ],
   "metadata": {
    "collapsed": false,
    "pycharm": {
     "name": "#%% md\n"
    }
   }
  },
  {
   "cell_type": "code",
   "execution_count": 27,
   "outputs": [
    {
     "name": "stdout",
     "output_type": "stream",
     "text": [
      "- N = 5\n",
      "    weight = 11, bloat = 120.0\n",
      "    total visited nodes =  40\n",
      "\n",
      "- N = 10\n",
      "    weight = 24, bloat = 140.0\n",
      "    total visited nodes =  267\n",
      "\n",
      "- N = 20\n",
      "    weight = 66, bloat = 230.0\n",
      "    total visited nodes =  331\n",
      "\n",
      "- N = 100\n",
      "    weight = 351, bloat = 251.0\n",
      "    total visited nodes =  4632\n",
      "\n"
     ]
    },
    {
     "ename": "KeyboardInterrupt",
     "evalue": "",
     "output_type": "error",
     "traceback": [
      "\u001B[0;31m---------------------------------------------------------------------------\u001B[0m",
      "\u001B[0;31mKeyboardInterrupt\u001B[0m                         Traceback (most recent call last)",
      "Cell \u001B[0;32mIn [27], line 6\u001B[0m\n\u001B[1;32m      3\u001B[0m \u001B[38;5;28;01mfor\u001B[39;00m N \u001B[38;5;129;01min\u001B[39;00m [\u001B[38;5;241m5\u001B[39m, \u001B[38;5;241m10\u001B[39m, \u001B[38;5;241m20\u001B[39m, \u001B[38;5;241m100\u001B[39m, \u001B[38;5;241m1000\u001B[39m]:\n\u001B[1;32m      4\u001B[0m     space \u001B[38;5;241m=\u001B[39m problem(N, seed\u001B[38;5;241m=\u001B[39m\u001B[38;5;241m42\u001B[39m)\n\u001B[0;32m----> 6\u001B[0m     search(\n\u001B[1;32m      7\u001B[0m         goal_test\u001B[38;5;241m=\u001B[39mgoal_test,\n\u001B[1;32m      8\u001B[0m         parent_state\u001B[38;5;241m=\u001B[39mparent_state,\n\u001B[1;32m      9\u001B[0m         state_cost\u001B[38;5;241m=\u001B[39mstate_cost,\n\u001B[1;32m     10\u001B[0m         priority_function\u001B[38;5;241m=\u001B[39m\u001B[38;5;28;01mlambda\u001B[39;00m s: \u001B[38;5;241m-\u001B[39m\u001B[38;5;28mlen\u001B[39m(state_cost),\n\u001B[1;32m     11\u001B[0m         cost_function\u001B[38;5;241m=\u001B[39m\u001B[38;5;28;01mlambda\u001B[39;00m a: \u001B[38;5;28mlen\u001B[39m(a),\n\u001B[1;32m     12\u001B[0m         N \u001B[38;5;241m=\u001B[39m N,\n\u001B[1;32m     13\u001B[0m         space \u001B[38;5;241m=\u001B[39m space,\n\u001B[1;32m     14\u001B[0m         name\u001B[38;5;241m=\u001B[39m\u001B[38;5;124m\"\u001B[39m\u001B[38;5;124mDepth-First Search\u001B[39m\u001B[38;5;124m\"\u001B[39m\n\u001B[1;32m     15\u001B[0m     )\n",
      "Cell \u001B[0;32mIn [23], line 26\u001B[0m, in \u001B[0;36msearch\u001B[0;34m(goal_test, parent_state, state_cost, priority_function, cost_function, N, space, name)\u001B[0m\n\u001B[1;32m     24\u001B[0m new_state \u001B[38;5;241m=\u001B[39m result(state, step)\n\u001B[1;32m     25\u001B[0m cost \u001B[38;5;241m=\u001B[39m cost_function(step)\n\u001B[0;32m---> 26\u001B[0m \u001B[38;5;28;01mif\u001B[39;00m \u001B[43mnew_state\u001B[49m\u001B[43m \u001B[49m\u001B[38;5;129;43;01mnot\u001B[39;49;00m\u001B[43m \u001B[49m\u001B[38;5;129;43;01min\u001B[39;49;00m\u001B[43m \u001B[49m\u001B[43mstate_cost\u001B[49m \u001B[38;5;129;01mand\u001B[39;00m new_state \u001B[38;5;129;01mnot\u001B[39;00m \u001B[38;5;129;01min\u001B[39;00m frontier:\n\u001B[1;32m     27\u001B[0m     state_cost[new_state] \u001B[38;5;241m=\u001B[39m state_cost[state] \u001B[38;5;241m+\u001B[39m cost\n\u001B[1;32m     28\u001B[0m     frontier\u001B[38;5;241m.\u001B[39mpush(new_state, p\u001B[38;5;241m=\u001B[39mpriority_function(new_state))\n",
      "Cell \u001B[0;32mIn [12], line 8\u001B[0m, in \u001B[0;36mState.__hash__\u001B[0;34m(self)\u001B[0m\n\u001B[1;32m      6\u001B[0m \u001B[38;5;28;01mdef\u001B[39;00m \u001B[38;5;21m__hash__\u001B[39m(\u001B[38;5;28mself\u001B[39m):\n\u001B[1;32m      7\u001B[0m     data \u001B[38;5;241m=\u001B[39m flatten(\u001B[38;5;28mself\u001B[39m\u001B[38;5;241m.\u001B[39m_data)\n\u001B[0;32m----> 8\u001B[0m     data \u001B[38;5;241m=\u001B[39m [element \u001B[38;5;241m%\u001B[39m \u001B[38;5;241m256\u001B[39m \u001B[38;5;28;01mfor\u001B[39;00m element \u001B[38;5;129;01min\u001B[39;00m data]\n\u001B[1;32m      9\u001B[0m     \u001B[38;5;28;01mreturn\u001B[39;00m \u001B[38;5;28mhash\u001B[39m(\u001B[38;5;28mbytes\u001B[39m(data))\n",
      "Cell \u001B[0;32mIn [12], line 8\u001B[0m, in \u001B[0;36m<listcomp>\u001B[0;34m(.0)\u001B[0m\n\u001B[1;32m      6\u001B[0m \u001B[38;5;28;01mdef\u001B[39;00m \u001B[38;5;21m__hash__\u001B[39m(\u001B[38;5;28mself\u001B[39m):\n\u001B[1;32m      7\u001B[0m     data \u001B[38;5;241m=\u001B[39m flatten(\u001B[38;5;28mself\u001B[39m\u001B[38;5;241m.\u001B[39m_data)\n\u001B[0;32m----> 8\u001B[0m     data \u001B[38;5;241m=\u001B[39m [element \u001B[38;5;241m%\u001B[39m \u001B[38;5;241m256\u001B[39m \u001B[38;5;28;01mfor\u001B[39;00m element \u001B[38;5;129;01min\u001B[39;00m data]\n\u001B[1;32m      9\u001B[0m     \u001B[38;5;28;01mreturn\u001B[39;00m \u001B[38;5;28mhash\u001B[39m(\u001B[38;5;28mbytes\u001B[39m(data))\n",
      "\u001B[0;31mKeyboardInterrupt\u001B[0m: "
     ]
    }
   ],
   "source": [
    "parent_state = dict()\n",
    "state_cost = dict()\n",
    "for N in [5, 10, 20, 100, 1000]:\n",
    "    space = problem(N, seed=42)\n",
    "\n",
    "    search(\n",
    "        goal_test=goal_test,\n",
    "        parent_state=parent_state,\n",
    "        state_cost=state_cost,\n",
    "        priority_function=lambda s: -len(state_cost),\n",
    "        cost_function=lambda a: len(a),\n",
    "        N = N,\n",
    "        space = space,\n",
    "        name=\"Depth-First Search\"\n",
    "    )"
   ],
   "metadata": {
    "collapsed": false,
    "pycharm": {
     "name": "#%%\n"
    }
   }
  },
  {
   "cell_type": "markdown",
   "source": [
    "## Gready Best-First Search"
   ],
   "metadata": {
    "collapsed": false,
    "pycharm": {
     "name": "#%% md\n"
    }
   }
  },
  {
   "cell_type": "code",
   "execution_count": 28,
   "outputs": [
    {
     "name": "stdout",
     "output_type": "stream",
     "text": [
      "- N = 5\n",
      "    weight = 6, bloat = 20.0\n",
      "    total visited nodes =  18\n",
      "\n",
      "- N = 10\n",
      "    weight = 11, bloat = 10.0\n",
      "    total visited nodes =  82\n",
      "\n",
      "- N = 20\n",
      "    weight = 29, bloat = 45.0\n",
      "    total visited nodes =  97\n",
      "\n",
      "- N = 100\n",
      "    weight = 192, bloat = 92.0\n",
      "    total visited nodes =  1699\n",
      "\n"
     ]
    },
    {
     "ename": "KeyboardInterrupt",
     "evalue": "",
     "output_type": "error",
     "traceback": [
      "\u001B[0;31m---------------------------------------------------------------------------\u001B[0m",
      "\u001B[0;31mKeyboardInterrupt\u001B[0m                         Traceback (most recent call last)",
      "Cell \u001B[0;32mIn [28], line 12\u001B[0m\n\u001B[1;32m      7\u001B[0m \u001B[38;5;28;01mfor\u001B[39;00m N \u001B[38;5;129;01min\u001B[39;00m [\u001B[38;5;241m5\u001B[39m, \u001B[38;5;241m10\u001B[39m, \u001B[38;5;241m20\u001B[39m, \u001B[38;5;241m100\u001B[39m, \u001B[38;5;241m1000\u001B[39m]:\n\u001B[1;32m      8\u001B[0m     space \u001B[38;5;241m=\u001B[39m \u001B[38;5;28msorted\u001B[39m(problem(N, seed\u001B[38;5;241m=\u001B[39m\u001B[38;5;241m42\u001B[39m), key\u001B[38;5;241m=\u001B[39m\u001B[38;5;28;01mlambda\u001B[39;00m l: \u001B[38;5;241m-\u001B[39m\u001B[38;5;28mlen\u001B[39m(l))\n\u001B[0;32m---> 12\u001B[0m     final \u001B[38;5;241m=\u001B[39m search(\n\u001B[1;32m     13\u001B[0m         goal_test\u001B[38;5;241m=\u001B[39mgoal_test,\n\u001B[1;32m     14\u001B[0m         parent_state\u001B[38;5;241m=\u001B[39mparent_state,\n\u001B[1;32m     15\u001B[0m         state_cost\u001B[38;5;241m=\u001B[39mstate_cost,\n\u001B[1;32m     16\u001B[0m         priority_function\u001B[38;5;241m=\u001B[39m\u001B[38;5;28;01mlambda\u001B[39;00m s: h(s),\n\u001B[1;32m     17\u001B[0m         cost_function\u001B[38;5;241m=\u001B[39m\u001B[38;5;28;01mlambda\u001B[39;00m a: \u001B[38;5;28mlen\u001B[39m(a),\n\u001B[1;32m     18\u001B[0m         N \u001B[38;5;241m=\u001B[39m N,\n\u001B[1;32m     19\u001B[0m         space \u001B[38;5;241m=\u001B[39m space,\n\u001B[1;32m     20\u001B[0m         name\u001B[38;5;241m=\u001B[39m\u001B[38;5;124m\"\u001B[39m\u001B[38;5;124mGready Best-First Search\u001B[39m\u001B[38;5;124m\"\u001B[39m\n\u001B[1;32m     21\u001B[0m     )\n",
      "Cell \u001B[0;32mIn [23], line 29\u001B[0m, in \u001B[0;36msearch\u001B[0;34m(goal_test, parent_state, state_cost, priority_function, cost_function, N, space, name)\u001B[0m\n\u001B[1;32m     27\u001B[0m     state_cost[new_state] \u001B[38;5;241m=\u001B[39m state_cost[state] \u001B[38;5;241m+\u001B[39m cost\n\u001B[1;32m     28\u001B[0m     frontier\u001B[38;5;241m.\u001B[39mpush(new_state, p\u001B[38;5;241m=\u001B[39mpriority_function(new_state))\n\u001B[0;32m---> 29\u001B[0m     logging\u001B[38;5;241m.\u001B[39mdebug(\u001B[38;5;124mf\u001B[39m\u001B[38;5;124m\"\u001B[39m\u001B[38;5;124mAdded new node to frontier (cost=\u001B[39m\u001B[38;5;132;01m{\u001B[39;00mstate_cost[new_state]\u001B[38;5;132;01m}\u001B[39;00m\u001B[38;5;124m)\u001B[39m\u001B[38;5;124m\"\u001B[39m)\n\u001B[1;32m     30\u001B[0m \u001B[38;5;28;01melif\u001B[39;00m new_state \u001B[38;5;129;01min\u001B[39;00m frontier \u001B[38;5;129;01mand\u001B[39;00m state_cost[new_state] \u001B[38;5;241m>\u001B[39m state_cost[state] \u001B[38;5;241m+\u001B[39m cost:\n\u001B[1;32m     31\u001B[0m     old_cost \u001B[38;5;241m=\u001B[39m state_cost[new_state]\n",
      "Cell \u001B[0;32mIn [12], line 8\u001B[0m, in \u001B[0;36mState.__hash__\u001B[0;34m(self)\u001B[0m\n\u001B[1;32m      6\u001B[0m \u001B[38;5;28;01mdef\u001B[39;00m \u001B[38;5;21m__hash__\u001B[39m(\u001B[38;5;28mself\u001B[39m):\n\u001B[1;32m      7\u001B[0m     data \u001B[38;5;241m=\u001B[39m flatten(\u001B[38;5;28mself\u001B[39m\u001B[38;5;241m.\u001B[39m_data)\n\u001B[0;32m----> 8\u001B[0m     data \u001B[38;5;241m=\u001B[39m [element \u001B[38;5;241m%\u001B[39m \u001B[38;5;241m256\u001B[39m \u001B[38;5;28;01mfor\u001B[39;00m element \u001B[38;5;129;01min\u001B[39;00m data]\n\u001B[1;32m      9\u001B[0m     \u001B[38;5;28;01mreturn\u001B[39;00m \u001B[38;5;28mhash\u001B[39m(\u001B[38;5;28mbytes\u001B[39m(data))\n",
      "Cell \u001B[0;32mIn [12], line 8\u001B[0m, in \u001B[0;36m<listcomp>\u001B[0;34m(.0)\u001B[0m\n\u001B[1;32m      6\u001B[0m \u001B[38;5;28;01mdef\u001B[39;00m \u001B[38;5;21m__hash__\u001B[39m(\u001B[38;5;28mself\u001B[39m):\n\u001B[1;32m      7\u001B[0m     data \u001B[38;5;241m=\u001B[39m flatten(\u001B[38;5;28mself\u001B[39m\u001B[38;5;241m.\u001B[39m_data)\n\u001B[0;32m----> 8\u001B[0m     data \u001B[38;5;241m=\u001B[39m [element \u001B[38;5;241m%\u001B[39m \u001B[38;5;241m256\u001B[39m \u001B[38;5;28;01mfor\u001B[39;00m element \u001B[38;5;129;01min\u001B[39;00m data]\n\u001B[1;32m      9\u001B[0m     \u001B[38;5;28;01mreturn\u001B[39;00m \u001B[38;5;28mhash\u001B[39m(\u001B[38;5;28mbytes\u001B[39m(data))\n",
      "\u001B[0;31mKeyboardInterrupt\u001B[0m: "
     ]
    }
   ],
   "source": [
    "parent_state = dict()\n",
    "state_cost = dict()\n",
    "\n",
    "def h(state):\n",
    "    return (N - len(state._set_data))\n",
    "\n",
    "for N in [5, 10, 20, 100, 1000]:\n",
    "    space = sorted(problem(N, seed=42), key=lambda l: -len(l))\n",
    "\n",
    "    final = search(\n",
    "        goal_test=goal_test,\n",
    "        parent_state=parent_state,\n",
    "        state_cost=state_cost,\n",
    "        priority_function=lambda s: h(s),\n",
    "        cost_function=lambda a: len(a),\n",
    "        N = N,\n",
    "        space = space,\n",
    "        name=\"Gready Best-First Search\"\n",
    "    )"
   ],
   "metadata": {
    "collapsed": false,
    "pycharm": {
     "name": "#%%\n"
    }
   }
  },
  {
   "cell_type": "markdown",
   "source": [
    "## A* Search\n"
   ],
   "metadata": {
    "collapsed": false,
    "pycharm": {
     "name": "#%% md\n"
    }
   }
  },
  {
   "cell_type": "code",
   "execution_count": 30,
   "outputs": [
    {
     "name": "stdout",
     "output_type": "stream",
     "text": [
      "- N = 5\n",
      "    weight = 5, bloat = 0.0\n",
      "    total visited nodes =  29\n",
      "\n",
      "- N = 10\n",
      "    weight = 10, bloat = 0.0\n",
      "    total visited nodes =  623\n",
      "\n",
      "- N = 20\n",
      "    weight = 23, bloat = 15.0\n",
      "    total visited nodes =  37941\n",
      "\n"
     ]
    }
   ],
   "source": [
    "parent_state = dict()\n",
    "state_cost = dict()\n",
    "\n",
    "def h(state):\n",
    "    return (N - len(state._set_data))\n",
    "\n",
    "for N in [5, 10, 20]:\n",
    "    space = problem(N, seed=42)\n",
    "\n",
    "\n",
    "\n",
    "    search(\n",
    "        goal_test=goal_test,\n",
    "        parent_state=parent_state,\n",
    "        state_cost=state_cost,\n",
    "        priority_function=lambda s: state_cost[s] + h(s),\n",
    "        cost_function=lambda a: len(a),\n",
    "        N = N,\n",
    "        space = space,\n",
    "        name=\"A* Search\"\n",
    "    )"
   ],
   "metadata": {
    "collapsed": false,
    "pycharm": {
     "name": "#%%\n"
    }
   }
  },
  {
   "cell_type": "code",
   "execution_count": 54,
   "outputs": [],
   "source": [],
   "metadata": {
    "collapsed": false,
    "pycharm": {
     "name": "#%%\n"
    }
   }
  }
 ],
 "metadata": {
  "kernelspec": {
   "display_name": "Python 3.10.7 ('ci22-dPIXJ0_o-py3.10')",
   "language": "python",
   "name": "python3"
  },
  "language_info": {
   "codemirror_mode": {
    "name": "ipython",
    "version": 3
   },
   "file_extension": ".py",
   "mimetype": "text/x-python",
   "name": "python",
   "nbconvert_exporter": "python",
   "pygments_lexer": "ipython3",
   "version": "3.10.7"
  },
  "vscode": {
   "interpreter": {
    "hash": "10197e8e2f2aa67e2c349105091c77f4cd384fce4877865f002d9ec653f96bc0"
   }
  }
 },
 "nbformat": 4,
 "nbformat_minor": 2
}